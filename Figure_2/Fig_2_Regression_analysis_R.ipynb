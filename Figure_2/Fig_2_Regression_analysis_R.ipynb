{
 "cells": [
  {
   "cell_type": "markdown",
   "metadata": {},
   "source": [
    "**Regression analysis of spatial data over the grid**"
   ]
  },
  {
   "cell_type": "code",
   "execution_count": 1,
   "metadata": {},
   "outputs": [],
   "source": [
    "options(repr.plot.width = 4, repr.plot.height = 4)\n",
    "options(jupyter.plot_mimetypes = \"image/png\")"
   ]
  },
  {
   "cell_type": "markdown",
   "metadata": {},
   "source": [
    "# Day=140"
   ]
  },
  {
   "cell_type": "code",
   "execution_count": 3,
   "metadata": {},
   "outputs": [
    {
     "data": {
      "text/html": [
       "<table>\n",
       "<thead><tr><th scope=col>X</th><th scope=col>Rate</th><th scope=col>Substrate</th><th scope=col>Enzyme</th></tr></thead>\n",
       "<tbody>\n",
       "\t<tr><td>0        </td><td>2.454159 </td><td> 91.73162</td><td>0.1852574</td></tr>\n",
       "\t<tr><td>1        </td><td>2.070132 </td><td>119.00490</td><td>0.1451758</td></tr>\n",
       "\t<tr><td>2        </td><td>4.004818 </td><td> 95.34558</td><td>0.2972920</td></tr>\n",
       "\t<tr><td>3        </td><td>3.908423 </td><td>103.58905</td><td>0.2833565</td></tr>\n",
       "\t<tr><td>4        </td><td>2.524583 </td><td>118.08002</td><td>0.1772307</td></tr>\n",
       "\t<tr><td>5        </td><td>1.730887 </td><td>130.21757</td><td>0.1187143</td></tr>\n",
       "</tbody>\n",
       "</table>\n"
      ],
      "text/latex": [
       "\\begin{tabular}{r|llll}\n",
       " X & Rate & Substrate & Enzyme\\\\\n",
       "\\hline\n",
       "\t 0         & 2.454159  &  91.73162 & 0.1852574\\\\\n",
       "\t 1         & 2.070132  & 119.00490 & 0.1451758\\\\\n",
       "\t 2         & 4.004818  &  95.34558 & 0.2972920\\\\\n",
       "\t 3         & 3.908423  & 103.58905 & 0.2833565\\\\\n",
       "\t 4         & 2.524583  & 118.08002 & 0.1772307\\\\\n",
       "\t 5         & 1.730887  & 130.21757 & 0.1187143\\\\\n",
       "\\end{tabular}\n"
      ],
      "text/markdown": [
       "\n",
       "X | Rate | Substrate | Enzyme | \n",
       "|---|---|---|---|---|---|\n",
       "| 0         | 2.454159  |  91.73162 | 0.1852574 | \n",
       "| 1         | 2.070132  | 119.00490 | 0.1451758 | \n",
       "| 2         | 4.004818  |  95.34558 | 0.2972920 | \n",
       "| 3         | 3.908423  | 103.58905 | 0.2833565 | \n",
       "| 4         | 2.524583  | 118.08002 | 0.1772307 | \n",
       "| 5         | 1.730887  | 130.21757 | 0.1187143 | \n",
       "\n",
       "\n"
      ],
      "text/plain": [
       "  X Rate     Substrate Enzyme   \n",
       "1 0 2.454159  91.73162 0.1852574\n",
       "2 1 2.070132 119.00490 0.1451758\n",
       "3 2 4.004818  95.34558 0.2972920\n",
       "4 3 3.908423 103.58905 0.2833565\n",
       "5 4 2.524583 118.08002 0.1772307\n",
       "6 5 1.730887 130.21757 0.1187143"
      ]
     },
     "metadata": {},
     "output_type": "display_data"
    }
   ],
   "source": [
    "cellulose_140 <- read.csv('Cellulose_Rate_Sub_Enz_140.csv')\n",
    "head(cellulose_140)"
   ]
  },
  {
   "cell_type": "code",
   "execution_count": 4,
   "metadata": {},
   "outputs": [],
   "source": [
    "# variables\n",
    "Substrate <- cellulose_140$Substrate\n",
    "Enzyme <- cellulose_140$Enzyme\n",
    "Rate <- cellulose_140$Rate"
   ]
  },
  {
   "cell_type": "code",
   "execution_count": 5,
   "metadata": {},
   "outputs": [],
   "source": [
    "MM <- formula(Rate ~ Vmax*Substrate*Enzyme/(km+Substrate))\n",
    "RMM <- formula(Rate ~ Vmax*Enzyme/(km+Enzyme))"
   ]
  },
  {
   "cell_type": "code",
   "execution_count": 6,
   "metadata": {},
   "outputs": [
    {
     "data": {
      "text/plain": [
       "Nonlinear regression model\n",
       "  model: Rate ~ Vmax * Substrate * Enzyme/(km + Substrate)\n",
       "   data: parent.frame()\n",
       " Vmax    km \n",
       "18.80 37.74 \n",
       " residual sum-of-squares: 0.1973\n",
       "\n",
       "Number of iterations to convergence: 13 \n",
       "Achieved convergence tolerance: 4.524e-07"
      ]
     },
     "metadata": {},
     "output_type": "display_data"
    }
   ],
   "source": [
    "MM_Fitting <- nls(MM,start=list(Vmax=0.1,km=0.1))\n",
    "MM_Fitting"
   ]
  },
  {
   "cell_type": "code",
   "execution_count": 7,
   "metadata": {},
   "outputs": [
    {
     "data": {
      "text/plain": [
       "Nonlinear regression model\n",
       "  model: Rate ~ Vmax * Enzyme/(km + Enzyme)\n",
       "   data: parent.frame()\n",
       "  Vmax     km \n",
       "24.895  1.595 \n",
       " residual sum-of-squares: 60.11\n",
       "\n",
       "Number of iterations to convergence: 8 \n",
       "Achieved convergence tolerance: 5.253e-07"
      ]
     },
     "metadata": {},
     "output_type": "display_data"
    }
   ],
   "source": [
    "RMM_Fitting <- nls(RMM,start=list(Vmax=0.3,km=2))\n",
    "RMM_Fitting"
   ]
  },
  {
   "cell_type": "markdown",
   "metadata": {},
   "source": [
    "# Day=160"
   ]
  },
  {
   "cell_type": "code",
   "execution_count": 8,
   "metadata": {},
   "outputs": [
    {
     "data": {
      "text/html": [
       "<table>\n",
       "<thead><tr><th scope=col>X</th><th scope=col>Rate</th><th scope=col>Substrate</th><th scope=col>Enzyme</th></tr></thead>\n",
       "<tbody>\n",
       "\t<tr><td>0        </td><td>3.270652 </td><td>29.48165 </td><td>0.3983389</td></tr>\n",
       "\t<tr><td>1        </td><td>2.900950 </td><td>63.50639 </td><td>0.2484441</td></tr>\n",
       "\t<tr><td>2        </td><td>2.937473 </td><td>10.42443 </td><td>0.6843818</td></tr>\n",
       "\t<tr><td>3        </td><td>2.156653 </td><td> 9.46687 </td><td>0.5662163</td></tr>\n",
       "\t<tr><td>4        </td><td>4.269516 </td><td>25.83373 </td><td>0.5479563</td></tr>\n",
       "\t<tr><td>5        </td><td>4.867007 </td><td>32.45598 </td><td>0.5502190</td></tr>\n",
       "</tbody>\n",
       "</table>\n"
      ],
      "text/latex": [
       "\\begin{tabular}{r|llll}\n",
       " X & Rate & Substrate & Enzyme\\\\\n",
       "\\hline\n",
       "\t 0         & 3.270652  & 29.48165  & 0.3983389\\\\\n",
       "\t 1         & 2.900950  & 63.50639  & 0.2484441\\\\\n",
       "\t 2         & 2.937473  & 10.42443  & 0.6843818\\\\\n",
       "\t 3         & 2.156653  &  9.46687  & 0.5662163\\\\\n",
       "\t 4         & 4.269516  & 25.83373  & 0.5479563\\\\\n",
       "\t 5         & 4.867007  & 32.45598  & 0.5502190\\\\\n",
       "\\end{tabular}\n"
      ],
      "text/markdown": [
       "\n",
       "X | Rate | Substrate | Enzyme | \n",
       "|---|---|---|---|---|---|\n",
       "| 0         | 3.270652  | 29.48165  | 0.3983389 | \n",
       "| 1         | 2.900950  | 63.50639  | 0.2484441 | \n",
       "| 2         | 2.937473  | 10.42443  | 0.6843818 | \n",
       "| 3         | 2.156653  |  9.46687  | 0.5662163 | \n",
       "| 4         | 4.269516  | 25.83373  | 0.5479563 | \n",
       "| 5         | 4.867007  | 32.45598  | 0.5502190 | \n",
       "\n",
       "\n"
      ],
      "text/plain": [
       "  X Rate     Substrate Enzyme   \n",
       "1 0 3.270652 29.48165  0.3983389\n",
       "2 1 2.900950 63.50639  0.2484441\n",
       "3 2 2.937473 10.42443  0.6843818\n",
       "4 3 2.156653  9.46687  0.5662163\n",
       "5 4 4.269516 25.83373  0.5479563\n",
       "6 5 4.867007 32.45598  0.5502190"
      ]
     },
     "metadata": {},
     "output_type": "display_data"
    }
   ],
   "source": [
    "cellulose_160 <- read.csv('Cellulose_Rate_Sub_Enz_160.csv')\n",
    "head(cellulose_160)"
   ]
  },
  {
   "cell_type": "code",
   "execution_count": 9,
   "metadata": {},
   "outputs": [],
   "source": [
    "# variables\n",
    "Substrate <- cellulose_160$Substrate\n",
    "Enzyme <- cellulose_160$Enzyme\n",
    "Rate <- cellulose_160$Rate"
   ]
  },
  {
   "cell_type": "code",
   "execution_count": 10,
   "metadata": {},
   "outputs": [],
   "source": [
    "MM <- formula(Rate ~ Vmax*Substrate/(km+Substrate))\n",
    "RMM <- formula(Rate ~ Vmax*Enzyme/(km+Enzyme))"
   ]
  },
  {
   "cell_type": "code",
   "execution_count": 11,
   "metadata": {},
   "outputs": [
    {
     "data": {
      "text/plain": [
       "Nonlinear regression model\n",
       "  model: Rate ~ Vmax * Substrate/(km + Substrate)\n",
       "   data: parent.frame()\n",
       "   Vmax      km \n",
       " 0.8949 -5.7204 \n",
       " residual sum-of-squares: 81524\n",
       "\n",
       "Number of iterations to convergence: 15 \n",
       "Achieved convergence tolerance: 9.38e-06"
      ]
     },
     "metadata": {},
     "output_type": "display_data"
    }
   ],
   "source": [
    "MM_Fitting <- nls(MM,start=list(Vmax=0.3,km=2))\n",
    "MM_Fitting"
   ]
  },
  {
   "cell_type": "code",
   "execution_count": 12,
   "metadata": {},
   "outputs": [
    {
     "data": {
      "text/plain": [
       "Nonlinear regression model\n",
       "  model: Rate ~ Vmax * Enzyme/(km + Enzyme)\n",
       "   data: parent.frame()\n",
       "  Vmax     km \n",
       "6.3237 0.2476 \n",
       " residual sum-of-squares: 6712\n",
       "\n",
       "Number of iterations to convergence: 10 \n",
       "Achieved convergence tolerance: 3.3e-06"
      ]
     },
     "metadata": {},
     "output_type": "display_data"
    }
   ],
   "source": [
    "RMM_Fitting <- nls(RMM,start=list(Vmax=0.3,km=2))\n",
    "RMM_Fitting"
   ]
  },
  {
   "cell_type": "markdown",
   "metadata": {},
   "source": [
    "# Day =200"
   ]
  },
  {
   "cell_type": "code",
   "execution_count": 13,
   "metadata": {},
   "outputs": [
    {
     "data": {
      "text/html": [
       "<table>\n",
       "<thead><tr><th scope=col>X</th><th scope=col>Rate</th><th scope=col>Substrate</th><th scope=col>Enzyme</th></tr></thead>\n",
       "<tbody>\n",
       "\t<tr><td>0           </td><td>0.0122242398</td><td>0.091218568 </td><td>0.4028291   </td></tr>\n",
       "\t<tr><td>1           </td><td>0.0350572858</td><td>0.209489848 </td><td>0.4835216   </td></tr>\n",
       "\t<tr><td>2           </td><td>0.0005701508</td><td>0.003762430 </td><td>0.4547486   </td></tr>\n",
       "\t<tr><td>3           </td><td>0.0025108993</td><td>0.023247890 </td><td>0.3361987   </td></tr>\n",
       "\t<tr><td>4           </td><td>0.0014402879</td><td>0.007913272 </td><td>0.5327548   </td></tr>\n",
       "\t<tr><td>5           </td><td>0.0005697001</td><td>0.002720814 </td><td>0.5994291   </td></tr>\n",
       "</tbody>\n",
       "</table>\n"
      ],
      "text/latex": [
       "\\begin{tabular}{r|llll}\n",
       " X & Rate & Substrate & Enzyme\\\\\n",
       "\\hline\n",
       "\t 0            & 0.0122242398 & 0.091218568  & 0.4028291   \\\\\n",
       "\t 1            & 0.0350572858 & 0.209489848  & 0.4835216   \\\\\n",
       "\t 2            & 0.0005701508 & 0.003762430  & 0.4547486   \\\\\n",
       "\t 3            & 0.0025108993 & 0.023247890  & 0.3361987   \\\\\n",
       "\t 4            & 0.0014402879 & 0.007913272  & 0.5327548   \\\\\n",
       "\t 5            & 0.0005697001 & 0.002720814  & 0.5994291   \\\\\n",
       "\\end{tabular}\n"
      ],
      "text/markdown": [
       "\n",
       "X | Rate | Substrate | Enzyme | \n",
       "|---|---|---|---|---|---|\n",
       "| 0            | 0.0122242398 | 0.091218568  | 0.4028291    | \n",
       "| 1            | 0.0350572858 | 0.209489848  | 0.4835216    | \n",
       "| 2            | 0.0005701508 | 0.003762430  | 0.4547486    | \n",
       "| 3            | 0.0025108993 | 0.023247890  | 0.3361987    | \n",
       "| 4            | 0.0014402879 | 0.007913272  | 0.5327548    | \n",
       "| 5            | 0.0005697001 | 0.002720814  | 0.5994291    | \n",
       "\n",
       "\n"
      ],
      "text/plain": [
       "  X Rate         Substrate   Enzyme   \n",
       "1 0 0.0122242398 0.091218568 0.4028291\n",
       "2 1 0.0350572858 0.209489848 0.4835216\n",
       "3 2 0.0005701508 0.003762430 0.4547486\n",
       "4 3 0.0025108993 0.023247890 0.3361987\n",
       "5 4 0.0014402879 0.007913272 0.5327548\n",
       "6 5 0.0005697001 0.002720814 0.5994291"
      ]
     },
     "metadata": {},
     "output_type": "display_data"
    }
   ],
   "source": [
    "cellulose_200 <- read.csv('Cellulose_Rate_Sub_Enz_200.csv')\n",
    "head(cellulose_200)"
   ]
  },
  {
   "cell_type": "code",
   "execution_count": null,
   "metadata": {},
   "outputs": [],
   "source": []
  }
 ],
 "metadata": {
  "kernelspec": {
   "display_name": "R",
   "language": "R",
   "name": "ir"
  },
  "language_info": {
   "codemirror_mode": "r",
   "file_extension": ".r",
   "mimetype": "text/x-r-source",
   "name": "R",
   "pygments_lexer": "r",
   "version": "3.4.3"
  }
 },
 "nbformat": 4,
 "nbformat_minor": 2
}
